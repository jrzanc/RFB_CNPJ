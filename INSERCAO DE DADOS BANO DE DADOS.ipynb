{
 "cells": [
  {
   "cell_type": "code",
   "execution_count": 1,
   "id": "774c6a01",
   "metadata": {},
   "outputs": [],
   "source": [
    "import pandas as pd\n",
    "import numpy as np\n",
    "import mysql.connector\n",
    "from mysql.connector import Error"
   ]
  },
  {
   "cell_type": "code",
   "execution_count": 2,
   "id": "7a53d8bf",
   "metadata": {},
   "outputs": [],
   "source": [
    "def insert_dados(host,user,password,database,tbl,data):\n",
    "    import mysql.connector\n",
    "    from mysql.connector import Error\n",
    "    \n",
    "    try:\n",
    "        con = mysql.connector.connect(\n",
    "            host=host,\n",
    "            user=user,\n",
    "            password=password,\n",
    "            database=database\n",
    "            )\n",
    "        \n",
    "        mycursor = con.cursor()\n",
    "        #EXTRAINDO NOME DAS COLUNAS COLOCANDO-AS NO FORMATO DQL\n",
    "        coluns_name=\"(\"\n",
    "        value=\"\"\n",
    "        for x in tuple(data):\n",
    "            coluns_name=coluns_name+x+\",\"            \n",
    "        coluns_name=coluns_name[:-1]+\")\"\n",
    "        for i in range(data.shape[0]):\n",
    "            if i==0:\n",
    "                value=str(tuple(data.iloc[0]))\n",
    "            else:\n",
    "                value=value+\",\"+str(tuple(data.iloc[i]))\n",
    "\n",
    "       \n",
    "        \n",
    "       \n",
    "        mycursor.execute(sql)\n",
    "        con.commit()\n",
    "        if  con.is_connected():\n",
    "            mycursor.close()\n",
    "            con.close()\n",
    "        \n",
    "            \n",
    "    except:\n",
    "        pass\n"
   ]
  },
  {
   "cell_type": "code",
   "execution_count": 3,
   "id": "965ee021",
   "metadata": {},
   "outputs": [],
   "source": [
    "def carregar_bd(general,flow,database):\n",
    "    \"\"\"\n",
    "    GENERAL:\n",
    "        Lista referende a localização dos arquivo CSV. \n",
    "            G[a] -> endereço completo do arquivo csv que será inserido no banco de dados;\n",
    "            G[b] -> nomes das colunas sequências do banco de dados\n",
    "    FLOW:\n",
    "        Dados de controle das partes do arquivo CSV que alimentará o banco MySQL \n",
    "            F[a] -> primeira linha do arquivo CSV de inicialização. Geralmente inicia em 0\n",
    "            F[b] -> última linha que irá no banco MySQL. Se for todo o arquivo CSV, o valor deve ser maior que o numero de\n",
    "                    linhas do arquivo CSV\n",
    "            F[c] -> tamanho da segmentação CHUNKSIZE\n",
    "    DATABASE:\n",
    "        Dados para conexão com o Banco de Dados\n",
    "            D[a] -> host\n",
    "            D[b] -> user\n",
    "            D[c] -> password\n",
    "            D[d] -> database\n",
    "            D[e] -> table\n",
    "    \"\"\"\n",
    "    names=general[1]\n",
    "    address=general[0]\n",
    "    start=flow[0]\n",
    "    end=flow[1]\n",
    "    cont=start-10\n",
    "    a=0\n",
    "    for chunk in pd.read_csv(address, encoding = 'latin-1', sep = ';', chunksize=flow[2], names=names):\n",
    "        #tbl=chunk \n",
    "        #tbl=tbl.astype(str) \n",
    "        if start>cont:\n",
    "            cont=cont+1\n",
    "        elif (start<=cont)&(end>=cont):\n",
    "            #print(cont)\n",
    "            tbl=chunk \n",
    "            a=a+tbl.shape[0]\n",
    "            print(a)\n",
    "            tbl=tbl.astype(str)\n",
    "            insert_dados(database[0],database[1],database[2],database[3],database[4],tbl)\n",
    "            #sleep(10)\n",
    "            cont=cont+1\n",
    "        else:\n",
    "            break"
   ]
  },
  {
   "cell_type": "code",
   "execution_count": null,
   "id": "daaa3191",
   "metadata": {},
   "outputs": [
    {
     "name": "stdout",
     "output_type": "stream",
     "text": [
      "10000\n",
      "20000\n"
     ]
    }
   ],
   "source": [
    "G0='D:\\\\EMPRES\\\\TBL_AUXILIARES\\\\2022_07_RFB\\\\COMPACTDOS\\\\K3241.K03200Y'+\"0\"+'.D20709.ESTABELE.csv'\n",
    "G1=[\"cnpj_basico\",\"cnpj_ordem\",\"cnpj_dv\",\"identificador\",\"Nome_fantasia\",\"situacao_cadastral\",\"data_situacao_cadastral\",\"motivo_situaçao_cadastral\",\"nome_cidade_exterior\",\"pais\",\"data_inicio_atividade\",\"cnae_fiscal_principal\",\"cnae_fiscal_secundaria\",\"tipo_logradouro\",\"logradouro\",\"numero\",\"complemento\",\"bairro\",\"cep\",\"uf\",\"municipio\",\"ddd1\",\"telefone1\",\"ddd2\",\"telefone2\",\"dddfax\",\"fax\",\"correio_eletonico\",\"situacao_especial\",\"data_situacao_especial\"]\n",
    "general=[G0,G1]\n",
    "flow=[0,1200,10000]\n",
    "database=[\"localhost\",\"root\",\"zancanaro123\",\"rfb_cnpj\",\"estabelecimento\"]\n",
    "carregar_bd(general,flow,database)"
   ]
  },
  {
   "cell_type": "code",
   "execution_count": null,
   "id": "c80ac040",
   "metadata": {},
   "outputs": [],
   "source": [
    "a=0\n",
    "address='D:\\\\EMPRES\\\\TBL_AUXILIARES\\\\2022_07_RFB\\\\COMPACTDOS\\\\K3241.K03200Y'+\"0\"+'.D20709.ESTABELE.csv'\n",
    "names=G1\n",
    "for chunk in pd.read_csv(address, encoding = 'latin-1', sep = ';', chunksize=1000, names=names):\n",
    "    tbl=chunk \n",
    "    a=a+tbl.shape[0]\n",
    "    print(a)"
   ]
  },
  {
   "cell_type": "code",
   "execution_count": 9,
   "id": "36e4027e",
   "metadata": {},
   "outputs": [
    {
     "data": {
      "text/plain": [
       "10431.926"
      ]
     },
     "execution_count": 9,
     "metadata": {},
     "output_type": "execute_result"
    }
   ],
   "source": [
    "a/1000\n"
   ]
  },
  {
   "cell_type": "code",
   "execution_count": null,
   "id": "23eed712",
   "metadata": {},
   "outputs": [],
   "source": []
  }
 ],
 "metadata": {
  "kernelspec": {
   "display_name": "Python 3 (ipykernel)",
   "language": "python",
   "name": "python3"
  },
  "language_info": {
   "codemirror_mode": {
    "name": "ipython",
    "version": 3
   },
   "file_extension": ".py",
   "mimetype": "text/x-python",
   "name": "python",
   "nbconvert_exporter": "python",
   "pygments_lexer": "ipython3",
   "version": "3.9.12"
  }
 },
 "nbformat": 4,
 "nbformat_minor": 5
}
